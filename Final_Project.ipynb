{
 "cells": [
  {
   "cell_type": "markdown",
   "id": "c4fc9b7b",
   "metadata": {},
   "source": [
    "# Tools for Data Science Final Assignment\n",
    "\n"
   ]
  },
  {
   "cell_type": "markdown",
   "id": "59c1f11b",
   "metadata": {},
   "source": [
    "# My Data Science Final Assignment\n"
   ]
  },
  {
   "cell_type": "markdown",
   "id": "6fddc9e8",
   "metadata": {},
   "source": [
    "This project explores various data science tools and techniques to analyze and visualize data effectively using Python.\n"
   ]
  },
  {
   "cell_type": "markdown",
   "id": "d09b77a3",
   "metadata": {},
   "source": [
    "The following are some of the most commonly used programming languages in data science:\n",
    "\n",
    "1. Python  \n",
    "2. R  \n",
    "3. SQL  \n",
    "4. Java  \n",
    "5. Julia\n"
   ]
  },
  {
   "cell_type": "markdown",
   "id": "490d0906",
   "metadata": {},
   "source": [
    "Below is a list of popular libraries used in data science:\n",
    "\n",
    "1. NumPy  \n",
    "2. Pandas  \n",
    "3. Matplotlib  \n",
    "4. Scikit-learn  \n",
    "5. TensorFlow\n"
   ]
  },
  {
   "cell_type": "markdown",
   "id": "3f8137f2",
   "metadata": {},
   "source": [
    "Here is a table of commonly used Data Science tools:\n",
    "\n",
    "| Tool             | Category          | Description                              |\n",
    "|------------------|-------------------|------------------------------------------|\n",
    "| Jupyter Notebook | IDE / Notebook    | Interactive environment for coding       |\n",
    "| RStudio          | IDE               | IDE for R language                       |\n",
    "| Apache Spark     | Big Data Tool     | Framework for large-scale data processing|\n",
    "| TensorFlow       | Machine Learning  | Open-source library for ML and AI        |\n",
    "| Tableau          | Visualization     | Tool for creating interactive dashboards |\n"
   ]
  },
  {
   "cell_type": "markdown",
   "id": "0201b5e4",
   "metadata": {},
   "source": [
    "## Exercise 6: Data Science Tools\n",
    "| Tool             | Category                   |\n",
    "|------------------|----------------------------|\n",
    "| Jupyter Notebook | Interactive Development    |\n",
    "| RStudio          | IDE / Development Tool     |\n",
    "| Apache Spark     | Big Data Processing        |\n",
    "| TensorFlow       | Machine Learning           |\n",
    "| Tableau          | Data Visualization         |\n"
   ]
  },
  {
   "cell_type": "markdown",
   "id": "5156cc23",
   "metadata": {},
   "source": []
  },
  {
   "cell_type": "markdown",
   "id": "d8fd2929",
   "metadata": {},
   "source": [
    "## Exercise 7: Arithmetic Expression Examples\n",
    "Below are a few examples of evaluating arithmetic expressions in Python.\n"
   ]
  },
  {
   "cell_type": "code",
   "execution_count": 1,
   "id": "1f3642cb",
   "metadata": {},
   "outputs": [
    {
     "name": "stdout",
     "output_type": "stream",
     "text": [
      "Result: 17\n"
     ]
    }
   ],
   "source": [
    "# Exercise 8: Multiply and Add Numbers\n",
    "a = 3\n",
    "b = 4\n",
    "c = 5\n",
    "\n",
    "result = (a * b) + c\n",
    "print(\"Result:\", result)\n"
   ]
  },
  {
   "cell_type": "code",
   "execution_count": 2,
   "id": "c118fac0",
   "metadata": {},
   "outputs": [
    {
     "name": "stdout",
     "output_type": "stream",
     "text": [
      "200 minutes = 3.3333333333333335 hours\n",
      "Which is 3 hours and 20 minutes.\n"
     ]
    }
   ],
   "source": [
    "# Exercise 9: Convert minutes to hours\n",
    "minutes = 200\n",
    "\n",
    "# decimal hours\n",
    "hours_decimal = minutes / 60\n",
    "\n",
    "# hours and remainder minutes\n",
    "hours_int = minutes // 60\n",
    "remaining_minutes = minutes % 60\n",
    "\n",
    "print(f\"{minutes} minutes = {hours_decimal} hours\")\n",
    "print(f\"Which is {hours_int} hours and {remaining_minutes} minutes.\")\n"
   ]
  },
  {
   "cell_type": "markdown",
   "id": "633ce117",
   "metadata": {},
   "source": [
    "## Exercise 10: Objectives\n",
    "In this notebook we will:\n",
    "- List popular languages used in Data Science\n",
    "- List commonly used Data Science libraries\n",
    "- Create a table of Data Science tools\n",
    "- Demonstrate basic arithmetic operations using Python\n"
   ]
  },
  {
   "cell_type": "markdown",
   "id": "8362ed56",
   "metadata": {},
   "source": []
  },
  {
   "cell_type": "markdown",
   "id": "64e3ce61",
   "metadata": {},
   "source": [
    "## Exercise 11: Author\n",
    "Anisha Pawar\n"
   ]
  },
  {
   "cell_type": "markdown",
   "id": "3862d28e",
   "metadata": {},
   "source": []
  }
 ],
 "metadata": {
  "kernelspec": {
   "display_name": "Python 3",
   "language": "python",
   "name": "python3"
  },
  "language_info": {
   "codemirror_mode": {
    "name": "ipython",
    "version": 3
   },
   "file_extension": ".py",
   "mimetype": "text/x-python",
   "name": "python",
   "nbconvert_exporter": "python",
   "pygments_lexer": "ipython3",
   "version": "3.12.7"
  }
 },
 "nbformat": 4,
 "nbformat_minor": 5
}
