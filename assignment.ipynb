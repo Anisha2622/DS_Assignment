{
 "cells": [
  {
   "cell_type": "code",
   "execution_count": 2,
   "id": "c0e97f0c",
   "metadata": {},
   "outputs": [
    {
     "name": "stdout",
     "output_type": "stream",
     "text": [
      "Data loaded successfully! Here's the head of the DataFrame:\n",
      "   Flight Number        Date Time (UTC) Booster Version  Launch Site  \\\n",
      "0              1  2010-06-04   18:45:00  F9 v1.0  B0003  CCAFS LC-40   \n",
      "1              2  2010-12-08   15:43:00  F9 v1.0  B0004  CCAFS LC-40   \n",
      "2              3  2012-05-22    7:44:00  F9 v1.0  B0005  CCAFS LC-40   \n",
      "3              4  2012-10-08    0:35:00  F9 v1.0  B0006  CCAFS LC-40   \n",
      "4              5  2013-03-01   15:10:00  F9 v1.0  B0007  CCAFS LC-40   \n",
      "\n",
      "                                             Payload  Payload Mass (kg)  \\\n",
      "0               Dragon Spacecraft Qualification Unit                0.0   \n",
      "1  Dragon demo flight C1, two CubeSats,  barrel o...                0.0   \n",
      "2                             Dragon demo flight C2+              525.0   \n",
      "3                                       SpaceX CRS-1              500.0   \n",
      "4                                       SpaceX CRS-2              677.0   \n",
      "\n",
      "       Orbit         Customer        Landing Outcome  class        Lat  \\\n",
      "0        LEO           SpaceX  Failure   (parachute)      0  28.562302   \n",
      "1  LEO (ISS)  NASA (COTS) NRO  Failure   (parachute)      0  28.562302   \n",
      "2  LEO (ISS)      NASA (COTS)             No attempt      0  28.562302   \n",
      "3  LEO (ISS)       NASA (CRS)             No attempt      0  28.562302   \n",
      "4  LEO (ISS)       NASA (CRS)             No attempt      0  28.562302   \n",
      "\n",
      "        Long  \n",
      "0 -80.577356  \n",
      "1 -80.577356  \n",
      "2 -80.577356  \n",
      "3 -80.577356  \n",
      "4 -80.577356  \n",
      "\n",
      "---------------------------------------------------\n",
      "\n",
      "Counts of launches from each site:\n",
      "Launch Site\n",
      "CCAFS LC-40     26\n",
      "KSC LC-39A      13\n",
      "VAFB SLC-4E     10\n",
      "CCAFS SLC-40     7\n",
      "Name: count, dtype: int64\n"
     ]
    }
   ],
   "source": [
    "import pandas as pd\n",
    "\n",
    "# This is the URL for the SpaceX dataset used in the IBM course\n",
    "URL = \"https://cf-courses-data.s3.us.cloud-object-storage.appdomain.cloud/IBM-DS0321EN-SkillsNetwork/datasets/spacex_launch_geo.csv\"\n",
    "\n",
    "# Step 1: Load the data from the URL into a DataFrame named 'df'\n",
    "df = pd.read_csv(URL)\n",
    "\n",
    "# Step 2: (Optional) You can print the first few rows to make sure it loaded correctly\n",
    "print(\"Data loaded successfully! Here's the head of the DataFrame:\")\n",
    "print(df.head())\n",
    "print(\"\\n---------------------------------------------------\\n\")\n",
    "\n",
    "# Step 3: Now you can run your analysis code, and it will work\n",
    "print(\"Counts of launches from each site:\")\n",
    "print(df['Launch Site'].value_counts())"
   ]
  },
  {
   "cell_type": "code",
   "execution_count": 3,
   "id": "0089b4b0",
   "metadata": {},
   "outputs": [
    {
     "name": "stdout",
     "output_type": "stream",
     "text": [
      "The success rate is: 42.86%\n"
     ]
    }
   ],
   "source": [
    "# The total number of launches is the total number of rows.\n",
    "total_launches = len(df)\n",
    "\n",
    "# The number of successful launches is the sum of the 'class' column.\n",
    "successful_launches = df['class'].sum()\n",
    "\n",
    "# Calculate the success rate as a percentage.\n",
    "success_rate = (successful_launches / total_launches) * 100\n",
    "\n",
    "print(f\"The success rate is: {success_rate:.2f}%\")"
   ]
  },
  {
   "cell_type": "code",
   "execution_count": 4,
   "id": "7e656f58",
   "metadata": {},
   "outputs": [
    {
     "name": "stdout",
     "output_type": "stream",
     "text": [
      "Orbit\n",
      "GTO             22\n",
      "LEO (ISS)       16\n",
      "LEO              8\n",
      "Polar LEO        6\n",
      "SSO              2\n",
      "Sun–Earth L1     1\n",
      "HEO              1\n",
      "Name: count, dtype: int64\n"
     ]
    }
   ],
   "source": [
    "# This command counts the number of times each value appears in the 'Orbit' column.\n",
    "orbit_counts = df['Orbit'].value_counts()\n",
    "\n",
    "print(orbit_counts)"
   ]
  },
  {
   "cell_type": "code",
   "execution_count": 6,
   "id": "5818f6e2",
   "metadata": {},
   "outputs": [
    {
     "name": "stdout",
     "output_type": "stream",
     "text": [
      "Index(['Flight Number', 'Date', 'Time (UTC)', 'Booster Version', 'Launch Site',\n",
      "       'Payload', 'Payload Mass (kg)', 'Orbit', 'Customer', 'Landing Outcome',\n",
      "       'class', 'Lat', 'Long'],\n",
      "      dtype='object')\n"
     ]
    }
   ],
   "source": [
    "print(df.columns)"
   ]
  },
  {
   "cell_type": "code",
   "execution_count": 9,
   "id": "d686c885",
   "metadata": {},
   "outputs": [
    {
     "name": "stdout",
     "output_type": "stream",
     "text": [
      "Landing Outcome\n",
      "No attempt                 18\n",
      "Success (drone ship)       11\n",
      "Success (ground pad)        8\n",
      "Controlled (ocean)          5\n",
      "Failure  (drone ship)       3\n",
      "Success  (drone ship)       3\n",
      "Failure   (parachute)       2\n",
      "Uncontrolled (ocean)        2\n",
      "Failure (drone ship)        2\n",
      "Precluded  (drone ship)     1\n",
      "Success  (ground pad)       1\n",
      "Name: count, dtype: int64\n"
     ]
    }
   ],
   "source": [
    "# We use the correct column name 'Landing Outcome' found by using df.columns\n",
    "outcome_counts = df['Landing Outcome'].value_counts()\n",
    "\n",
    "print(outcome_counts)"
   ]
  },
  {
   "cell_type": "code",
   "execution_count": 12,
   "id": "54541b09",
   "metadata": {},
   "outputs": [
    {
     "name": "stdout",
     "output_type": "stream",
     "text": [
      "Index(['FlightNumber', 'Date', 'BoosterVersion', 'PayloadMass', 'Orbit',\n",
      "       'LaunchSite', 'Outcome', 'Flights', 'GridFins', 'Reused', 'Legs',\n",
      "       'LandingPad', 'Block', 'ReusedCount', 'Serial', 'Longitude',\n",
      "       'Latitude'],\n",
      "      dtype='object')\n"
     ]
    }
   ],
   "source": [
    "print(df_quiz.columns)"
   ]
  },
  {
   "cell_type": "code",
   "execution_count": 13,
   "id": "31b0a926",
   "metadata": {},
   "outputs": [
    {
     "name": "stdout",
     "output_type": "stream",
     "text": [
      "LaunchSite\n",
      "CCAFS SLC 40    55\n",
      "KSC LC 39A      22\n",
      "VAFB SLC 4E     13\n",
      "Name: count, dtype: int64\n"
     ]
    }
   ],
   "source": [
    "# Use the correct column name 'LaunchSite' to count the launches from each site\n",
    "print(df_quiz['LaunchSite'].value_counts())"
   ]
  },
  {
   "cell_type": "code",
   "execution_count": 16,
   "id": "fcf3f5d5",
   "metadata": {},
   "outputs": [
    {
     "name": "stdout",
     "output_type": "stream",
     "text": [
      "--- Corrected Calculation ---\n",
      "Number of Successful Launches: 60\n",
      "Total Launches: 90\n",
      "The correct success rate is: 66.67%\n"
     ]
    }
   ],
   "source": [
    "# A mission is successful if the 'Outcome' starts with 'True'\n",
    "successful_launches = df_quiz['Outcome'].str.startswith('True').sum()\n",
    "\n",
    "# The total number of launches is the total number of rows\n",
    "total_launches = len(df_quiz)\n",
    "\n",
    "# Calculate the rate as a percentage\n",
    "success_rate = (successful_launches / total_launches) * 100\n",
    "\n",
    "print(\"--- Corrected Calculation ---\")\n",
    "print(f\"Number of Successful Launches: {successful_launches}\")\n",
    "print(f\"Total Launches: {total_launches}\")\n",
    "print(f\"The correct success rate is: {success_rate:.2f}%\")"
   ]
  },
  {
   "cell_type": "code",
   "execution_count": 17,
   "id": "9167ff59",
   "metadata": {},
   "outputs": [
    {
     "name": "stdout",
     "output_type": "stream",
     "text": [
      "Orbit\n",
      "GTO      27\n",
      "ISS      21\n",
      "VLEO     14\n",
      "PO        9\n",
      "LEO       7\n",
      "SSO       5\n",
      "MEO       3\n",
      "ES-L1     1\n",
      "HEO       1\n",
      "SO        1\n",
      "GEO       1\n",
      "Name: count, dtype: int64\n"
     ]
    }
   ],
   "source": [
    "# This command will count the number of launches for each orbit type\n",
    "print(df_quiz['Orbit'].value_counts())"
   ]
  },
  {
   "cell_type": "code",
   "execution_count": 18,
   "id": "01d51ca4",
   "metadata": {},
   "outputs": [
    {
     "name": "stdout",
     "output_type": "stream",
     "text": [
      "Outcome\n",
      "True ASDS      41\n",
      "None None      19\n",
      "True RTLS      14\n",
      "False ASDS      6\n",
      "True Ocean      5\n",
      "False Ocean     2\n",
      "None ASDS       2\n",
      "False RTLS      1\n",
      "Name: count, dtype: int64\n"
     ]
    }
   ],
   "source": [
    "# This command will count every type of mission outcome\n",
    "print(df_quiz['Outcome'].value_counts())"
   ]
  }
 ],
 "metadata": {
  "kernelspec": {
   "display_name": "Python 3",
   "language": "python",
   "name": "python3"
  },
  "language_info": {
   "codemirror_mode": {
    "name": "ipython",
    "version": 3
   },
   "file_extension": ".py",
   "mimetype": "text/x-python",
   "name": "python",
   "nbconvert_exporter": "python",
   "pygments_lexer": "ipython3",
   "version": "3.12.7"
  }
 },
 "nbformat": 4,
 "nbformat_minor": 5
}
