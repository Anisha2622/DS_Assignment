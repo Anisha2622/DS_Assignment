{
 "cells": [
  {
   "cell_type": "code",
   "execution_count": null,
   "id": "c0e97f0c",
   "metadata": {},
   "outputs": [],
   "source": [
    "print(df['Launch Site'].value_counts())"
   ]
  }
 ],
 "metadata": {
  "kernelspec": {
   "display_name": "Python 3",
   "language": "python",
   "name": "python3"
  },
  "language_info": {
   "name": "python",
   "version": "3.12.7"
  }
 },
 "nbformat": 4,
 "nbformat_minor": 5
}
